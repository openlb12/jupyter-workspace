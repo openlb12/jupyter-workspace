{
 "cells": [
  {
   "cell_type": "code",
   "execution_count": 2,
   "metadata": {},
   "outputs": [
    {
     "name": "stdout",
     "output_type": "stream",
     "text": [
      "[[0, 1, 3, 3], [0, 1, 4, 3], [0, 1, 3, 3], [0, 1, 4, 3], [0, 1, 3, 3], [0, 1, 4, 3]]\n"
     ]
    }
   ],
   "source": [
    "ldfl = []\n",
    "for i in range(3):\n",
    "    data = list(range(4))\n",
    "    for k in range(3,5):\n",
    "        data[2] = k\n",
    "        ldfl.append(data.copy())\n",
    "print(ldfl)"
   ]
  },
  {
   "cell_type": "code",
   "execution_count": 3,
   "metadata": {},
   "outputs": [
    {
     "name": "stdout",
     "output_type": "stream",
     "text": [
      "2.0\n",
      "4.0\n"
     ]
    }
   ],
   "source": [
    "import numpy as np\n",
    "for i in np.linspace(2.0,4.0,2):\n",
    "    print(i)"
   ]
  },
  {
   "cell_type": "code",
   "execution_count": 5,
   "metadata": {},
   "outputs": [
    {
     "name": "stdout",
     "output_type": "stream",
     "text": [
      "003\n"
     ]
    }
   ],
   "source": [
    "print(\"{:0>3d}\".format(3))"
   ]
  },
  {
   "cell_type": "code",
   "execution_count": 6,
   "metadata": {},
   "outputs": [
    {
     "name": "stdout",
     "output_type": "stream",
     "text": [
      "<export_type base_name=\"FastC003B0002\">2</export_type>\n",
      "\n"
     ]
    }
   ],
   "source": [
    "print('<export_type base_name=\"FastC{0:0>3d}B{1:0>4d}\">'\n",
    "                             '2</export_type>\\n'.format(3, 2))"
   ]
  },
  {
   "cell_type": "code",
   "execution_count": 7,
   "metadata": {},
   "outputs": [
    {
     "name": "stdout",
     "output_type": "stream",
     "text": [
      "1 3\n"
     ]
    }
   ],
   "source": [
    "x,y = [1,3]\n",
    "print(x,y)"
   ]
  },
  {
   "cell_type": "code",
   "execution_count": 8,
   "metadata": {},
   "outputs": [
    {
     "name": "stdout",
     "output_type": "stream",
     "text": [
      "1.00 2.00\n"
     ]
    }
   ],
   "source": [
    "print(\" \".join(map(\"{:.2f}\".format,[1,2])))"
   ]
  },
  {
   "cell_type": "code",
   "execution_count": 9,
   "metadata": {},
   "outputs": [
    {
     "name": "stdout",
     "output_type": "stream",
     "text": [
      "         order          order          order\n"
     ]
    }
   ],
   "source": [
    "print(\" \".join(map(\"{:>14s}\".format, [\"order\"]*3)))"
   ]
  },
  {
   "cell_type": "code",
   "execution_count": null,
   "metadata": {},
   "outputs": [],
   "source": []
  }
 ],
 "metadata": {
  "kernelspec": {
   "display_name": "Python 3",
   "language": "python",
   "name": "python3"
  },
  "language_info": {
   "codemirror_mode": {
    "name": "ipython",
    "version": 3
   },
   "file_extension": ".py",
   "mimetype": "text/x-python",
   "name": "python",
   "nbconvert_exporter": "python",
   "pygments_lexer": "ipython3",
   "version": "3.7.4"
  }
 },
 "nbformat": 4,
 "nbformat_minor": 4
}
